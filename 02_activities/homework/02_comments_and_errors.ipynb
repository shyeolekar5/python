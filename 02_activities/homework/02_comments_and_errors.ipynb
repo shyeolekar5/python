{
 "cells": [
  {
   "cell_type": "markdown",
   "metadata": {
    "id": "jNAI57ELh-I8"
   },
   "source": [
    "# Comments and Errors\n",
    "## Practice Problems"
   ]
  },
  {
   "cell_type": "markdown",
   "metadata": {
    "id": "YNjWPDWjifTe"
   },
   "source": [
    "### 1. Which of these expressions results in an error? Why does each error occur?"
   ]
  },
  {
   "cell_type": "code",
   "execution_count": 1,
   "metadata": {
    "colab": {
     "base_uri": "https://localhost:8080/"
    },
    "executionInfo": {
     "elapsed": 27,
     "status": "ok",
     "timestamp": 1667929891453,
     "user": {
      "displayName": "Kaylie Lau",
      "userId": "01284785813595846851"
     },
     "user_tz": 300
    },
    "id": "o3Oc7gU9ihND",
    "outputId": "e17b9653-fc59-4c03-8bd5-132fcc865579"
   },
   "outputs": [
    {
     "data": {
      "text/plain": [
       "81920"
      ]
     },
     "execution_count": 1,
     "metadata": {},
     "output_type": "execute_result"
    }
   ],
   "source": [
    "((((5 * 4 ** 7))))\n"
   ]
  },
  {
   "cell_type": "markdown",
   "metadata": {},
   "source": [
    "Answer: No error. Extra brackets are acceptable for grouping. In this example, they are of no use though. "
   ]
  },
  {
   "cell_type": "markdown",
   "metadata": {
    "id": "vN_Hk0Dxirg_"
   },
   "source": [
    "<details>\n",
    "  <summary>Answer</summary>\n",
    "\n",
    "  Valid -- Python accepts extraneous parentheses.\n",
    "</details>"
   ]
  },
  {
   "cell_type": "code",
   "execution_count": 2,
   "metadata": {
    "colab": {
     "base_uri": "https://localhost:8080/",
     "height": 130
    },
    "executionInfo": {
     "elapsed": 20,
     "status": "error",
     "timestamp": 1667929891454,
     "user": {
      "displayName": "Kaylie Lau",
      "userId": "01284785813595846851"
     },
     "user_tz": 300
    },
    "id": "JIohkU67ilDf",
    "outputId": "2d905bb6-f573-4c1c-cc95-f248e004ec4e"
   },
   "outputs": [
    {
     "ename": "SyntaxError",
     "evalue": "'literal' is an illegal expression for augmented assignment (868797654.py, line 1)",
     "output_type": "error",
     "traceback": [
      "\u001b[1;36m  Cell \u001b[1;32mIn[2], line 1\u001b[1;36m\u001b[0m\n\u001b[1;33m    84 *= 0.5 / 7\u001b[0m\n\u001b[1;37m    ^\u001b[0m\n\u001b[1;31mSyntaxError\u001b[0m\u001b[1;31m:\u001b[0m 'literal' is an illegal expression for augmented assignment\n"
     ]
    }
   ],
   "source": [
    "84 *= 0.5 / 7"
   ]
  },
  {
   "cell_type": "markdown",
   "metadata": {},
   "source": [
    "There is an error because we are trying to assign value to 84 which is supposed to be fixed. 84 is not a variable. "
   ]
  },
  {
   "cell_type": "markdown",
   "metadata": {
    "id": "EoWEA9nWiuY8"
   },
   "source": [
    "<details>\n",
    "  <summary>Answer</summary>\n",
    "\n",
    "  Error -- Python thinks we are trying to assign a value to 84, which is an integer literal. We can't change its value!\n",
    "</details>"
   ]
  },
  {
   "cell_type": "code",
   "execution_count": 3,
   "metadata": {
    "colab": {
     "base_uri": "https://localhost:8080/"
    },
    "executionInfo": {
     "elapsed": 160,
     "status": "ok",
     "timestamp": 1667929896986,
     "user": {
      "displayName": "Kaylie Lau",
      "userId": "01284785813595846851"
     },
     "user_tz": 300
    },
    "id": "-Qms7P2DimjG",
    "outputId": "9cd8ca29-b3d4-4e20-aba9-ca535def67a7"
   },
   "outputs": [
    {
     "data": {
      "text/plain": [
       "35"
      ]
     },
     "execution_count": 3,
     "metadata": {},
     "output_type": "execute_result"
    }
   ],
   "source": [
    "(-(-(-(-5 * (4 + 3)))))"
   ]
  },
  {
   "cell_type": "markdown",
   "metadata": {},
   "source": [
    "It is a valid expression because extra brackets are allowed. Having negative 4 times makes the answer positive. "
   ]
  },
  {
   "cell_type": "markdown",
   "metadata": {
    "id": "FvtzD77YivYE"
   },
   "source": [
    "<details>\n",
    "  <summary>Answer</summary>\n",
    "\n",
    "  Answer: Valid -- The `-` negates the value in the parentheses.\n",
    "</details>"
   ]
  },
  {
   "cell_type": "code",
   "execution_count": 4,
   "metadata": {
    "colab": {
     "base_uri": "https://localhost:8080/",
     "height": 130
    },
    "executionInfo": {
     "elapsed": 462,
     "status": "error",
     "timestamp": 1667929898860,
     "user": {
      "displayName": "Kaylie Lau",
      "userId": "01284785813595846851"
     },
     "user_tz": 300
    },
    "id": "d3dl1pNGioZN",
    "outputId": "0f912a63-e784-4787-f3ab-89bd9939ab2c"
   },
   "outputs": [
    {
     "ename": "SyntaxError",
     "evalue": "cannot assign to operator (3700621706.py, line 1)",
     "output_type": "error",
     "traceback": [
      "\u001b[1;36m  Cell \u001b[1;32mIn[4], line 1\u001b[1;36m\u001b[0m\n\u001b[1;33m    5 * 3 = weight\u001b[0m\n\u001b[1;37m    ^\u001b[0m\n\u001b[1;31mSyntaxError\u001b[0m\u001b[1;31m:\u001b[0m cannot assign to operator\n"
     ]
    }
   ],
   "source": [
    "5 * 3 = weight"
   ]
  },
  {
   "cell_type": "markdown",
   "metadata": {},
   "source": [
    "It is not valid. Left side can be a variable, not a fixed value or operator. "
   ]
  },
  {
   "cell_type": "markdown",
   "metadata": {
    "id": "SAb5BHZ0ixm1"
   },
   "source": [
    "<details>\n",
    "  <summary>Answer</summary>\n",
    "\n",
    "  Error -- We cannot assign a value to an expression, even if `weight` had been defined.\n",
    "</details>"
   ]
  },
  {
   "cell_type": "code",
   "execution_count": 5,
   "metadata": {
    "colab": {
     "base_uri": "https://localhost:8080/"
    },
    "executionInfo": {
     "elapsed": 140,
     "status": "ok",
     "timestamp": 1667929905100,
     "user": {
      "displayName": "Kaylie Lau",
      "userId": "01284785813595846851"
     },
     "user_tz": 300
    },
    "id": "a60xC38ziqOj",
    "outputId": "8c79d0aa-e732-4b69-ae61-397f2e77b4e2"
   },
   "outputs": [
    {
     "data": {
      "text/plain": [
       "-14.6"
      ]
     },
     "execution_count": 5,
     "metadata": {},
     "output_type": "execute_result"
    }
   ],
   "source": [
    "73 / -----------5"
   ]
  },
  {
   "cell_type": "markdown",
   "metadata": {},
   "source": [
    "It is valid. Many negatives only mean that it will flip flop between being positive and negative. End result will be negative in this case. "
   ]
  },
  {
   "cell_type": "markdown",
   "metadata": {
    "id": "fGDCqEGJizS-"
   },
   "source": [
    "<details>\n",
    "  <summary>Answer</summary>\n",
    "\n",
    "  Valid -- negatives cancel each other out.\n",
    "</details>"
   ]
  },
  {
   "cell_type": "markdown",
   "metadata": {},
   "source": [
    "### 2. Write a block of code to check if the value is a string. If it is, print out a message saying it is valid. Otherwise, raise an exception with a message saying the value must be a string."
   ]
  },
  {
   "cell_type": "code",
   "execution_count": 14,
   "metadata": {},
   "outputs": [
    {
     "ename": "TypeError",
     "evalue": "It must be a string",
     "output_type": "error",
     "traceback": [
      "\u001b[1;31m---------------------------------------------------------------------------\u001b[0m",
      "\u001b[1;31mTypeError\u001b[0m                                 Traceback (most recent call last)",
      "Cell \u001b[1;32mIn[14], line 8\u001b[0m\n\u001b[0;32m      6\u001b[0m     \u001b[38;5;28mprint\u001b[39m (\u001b[38;5;124m'\u001b[39m\u001b[38;5;124mIt is valid\u001b[39m\u001b[38;5;124m'\u001b[39m)\n\u001b[0;32m      7\u001b[0m \u001b[38;5;28;01melse\u001b[39;00m:\n\u001b[1;32m----> 8\u001b[0m     \u001b[38;5;28;01mraise\u001b[39;00m \u001b[38;5;167;01mTypeError\u001b[39;00m (\u001b[38;5;124m'\u001b[39m\u001b[38;5;124mIt must be a string\u001b[39m\u001b[38;5;124m'\u001b[39m)\n",
      "\u001b[1;31mTypeError\u001b[0m: It must be a string"
     ]
    }
   ],
   "source": [
    "value = 6\n",
    "\n",
    "# Your code goes here\n",
    "value = 6\n",
    "if type(value) == str:\n",
    "    print ('It is valid')\n",
    "else:\n",
    "    raise TypeError ('It must be a string')"
   ]
  },
  {
   "cell_type": "markdown",
   "metadata": {},
   "source": [
    "<details>\n",
    "  <summary>Answer</summary>\n",
    "\n",
    "  ```python\n",
    "  value = 6\n",
    "\n",
    "  if type(value) == str:\n",
    "    print(\"It is valid!\")\n",
    "  else:\n",
    "    raise TypeError(\"The value must be a string!\")\n",
    "  ```\n",
    "</details>"
   ]
  },
  {
   "cell_type": "markdown",
   "metadata": {},
   "source": [
    "### 3. What are the following errors?\n",
    "\n",
    "```python\n",
    "arr = [1, 2, 3]\n",
    "print(arr[3])\n",
    "```\n",
    "IndexError because there is no number at the position of 3. Python starts at 0 and the list has only 0, 1, 2 index. \n",
    "\n",
    "<details>\n",
    "  <summary>Answer</summary>\n",
    "\n",
    "  IndexError\n",
    "</details>\n"
   ]
  },
  {
   "cell_type": "markdown",
   "metadata": {},
   "source": [
    "\n",
    "```python\n",
    "fullName = \"Taylor Swift\"\n",
    "print(full_name)\n",
    "```\n",
    "Python is case sensitive. It can't find full_name. So gives NameError\n",
    "\n",
    "<details>\n",
    "  <summary>Answer</summary>\n",
    "\n",
    "  NameError\n",
    "</details>\n"
   ]
  },
  {
   "cell_type": "markdown",
   "metadata": {},
   "source": [
    "\n",
    "```python\n",
    "2 + '2' + 4\n",
    "```\n",
    "It is a TypeError because we are trying to add different data types. \n",
    "\n",
    "<details>\n",
    "  <summary>Answer</summary>\n",
    "\n",
    "  TypeError\n",
    "</details>"
   ]
  }
 ],
 "metadata": {
  "colab": {
   "authorship_tag": "ABX9TyMhUBNX+UP2C+YDtVSxQKBK",
   "collapsed_sections": [],
   "provenance": []
  },
  "kernelspec": {
   "display_name": "dsi_participant",
   "language": "python",
   "name": "python3"
  },
  "language_info": {
   "codemirror_mode": {
    "name": "ipython",
    "version": 3
   },
   "file_extension": ".py",
   "mimetype": "text/x-python",
   "name": "python",
   "nbconvert_exporter": "python",
   "pygments_lexer": "ipython3",
   "version": "3.9.15"
  }
 },
 "nbformat": 4,
 "nbformat_minor": 0
}
