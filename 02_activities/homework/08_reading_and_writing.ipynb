{
 "cells": [
  {
   "cell_type": "markdown",
   "metadata": {
    "id": "cxCHAm0GXfFb"
   },
   "source": [
    "# Reading and Writing\n",
    "## Practice Problems"
   ]
  },
  {
   "cell_type": "markdown",
   "metadata": {
    "id": "XUiaOKuWdLcW"
   },
   "source": [
    "### 1. Using `w`, create a file called `fruits.txt` and write the string \"tangerines\" to it. Next, use `a` to append the string \"dragon fruit\" to the file on a new line. Finally, use `r` to read and print the entire file. "
   ]
  },
  {
   "cell_type": "code",
   "execution_count": 14,
   "metadata": {
    "colab": {
     "base_uri": "https://localhost:8080/"
    },
    "executionInfo": {
     "elapsed": 15,
     "status": "ok",
     "timestamp": 1668131109930,
     "user": {
      "displayName": "Kaylie Lau",
      "userId": "01284785813595846851"
     },
     "user_tz": 300
    },
    "id": "T_4K-JAteH6S",
    "outputId": "766d459e-3aba-421a-cf9c-418132dce45e"
   },
   "outputs": [],
   "source": [
    "with open ('fruits.txt', 'w') as f:\n",
    "    f.write('tangerines')\n",
    "   "
   ]
  },
  {
   "cell_type": "code",
   "execution_count": 15,
   "metadata": {},
   "outputs": [
    {
     "name": "stdout",
     "output_type": "stream",
     "text": [
      "['tangerines']\n"
     ]
    }
   ],
   "source": [
    " with open ('fruits.txt', 'r') as f:\n",
    "    print(f.readlines())"
   ]
  },
  {
   "cell_type": "code",
   "execution_count": 16,
   "metadata": {},
   "outputs": [],
   "source": [
    "with open ('fruits.txt', 'a') as f:\n",
    "    f.write('\\ndragon fruit')\n",
    "    "
   ]
  },
  {
   "cell_type": "code",
   "execution_count": 17,
   "metadata": {},
   "outputs": [
    {
     "name": "stdout",
     "output_type": "stream",
     "text": [
      "['tangerines\\n', 'dragon fruit']\n"
     ]
    }
   ],
   "source": [
    "with open ('fruits.txt', 'r') as f:\n",
    "    contents = f.readlines()\n",
    "    print(contents)"
   ]
  },
  {
   "cell_type": "markdown",
   "metadata": {},
   "source": [
    "<details>\n",
    "  <summary>Answer</summary>\n",
    "\n",
    "  ```python\n",
    "  with open('fruits.txt', 'w') as fruit_file:\n",
    "    fruit_file.write('tangerines')\n",
    "\n",
    "  with open('fruits.txt', 'a') as fruit_file:\n",
    "    fruit_file.write('\\ndragon fruit')\n",
    "\n",
    "  with open('fruits.txt', 'r') as fruit_file:\n",
    "    print(fruit_file.read())\n",
    "  ```\n",
    "</details>"
   ]
  }
 ],
 "metadata": {
  "colab": {
   "authorship_tag": "ABX9TyO3VijQCXDe7a1I0vgK92JH",
   "collapsed_sections": [],
   "provenance": []
  },
  "kernelspec": {
   "display_name": "dsi_participant",
   "language": "python",
   "name": "python3"
  },
  "language_info": {
   "codemirror_mode": {
    "name": "ipython",
    "version": 3
   },
   "file_extension": ".py",
   "mimetype": "text/x-python",
   "name": "python",
   "nbconvert_exporter": "python",
   "pygments_lexer": "ipython3",
   "version": "3.9.15"
  }
 },
 "nbformat": 4,
 "nbformat_minor": 0
}
