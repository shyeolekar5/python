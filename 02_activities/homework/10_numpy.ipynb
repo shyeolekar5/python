{
 "cells": [
  {
   "cell_type": "markdown",
   "metadata": {
    "id": "o9ZHooznNUJM"
   },
   "source": [
    "# NumPy\n",
    "## Practice Problems"
   ]
  },
  {
   "cell_type": "markdown",
   "metadata": {
    "id": "CjqzgdT1FY8H"
   },
   "source": [
    "### 1. The formula for exponential growth is `population_size = N0 *e**rt`, where `N0` is the initial population, `e` is the exponential function, `r` is the rate, and `t` is time. Using this:\n",
    "\n",
    "1.   Set the initial population, `N0`, as 100 and the growth rate, `r`, as 0.4\n",
    "2.   Use the suitable `numpy` function to generate an array of time points, `t`, which go from 0 to 10 seconds, in 0.2 second increments.\n",
    "3.   Write an expression to evaluate `population_size`, which should be an array of the population size for each time point in `t`.\n",
    "4.   Create a new variable called `population_size_noise`, use the same expression you wrote in parts (3), and add noise to the population at each time point. Do this by adding an expression that uses a `numpy` function to generate a random value for each time point drawn from a normal distribution of `mean=0` and `stdev=250` (i.e., population_size_noise = expression_from_part_a + expression_to_add_noise)."
   ]
  },
  {
   "cell_type": "code",
   "execution_count": 16,
   "metadata": {
    "colab": {
     "base_uri": "https://localhost:8080/"
    },
    "executionInfo": {
     "elapsed": 7,
     "status": "ok",
     "timestamp": 1668296875008,
     "user": {
      "displayName": "Kaylie Lau",
      "userId": "01284785813595846851"
     },
     "user_tz": 300
    },
    "id": "ULSswoS4EhRs",
    "outputId": "6d541d46-0b4f-4300-9d52-bfd6d4877aff"
   },
   "outputs": [
    {
     "name": "stdout",
     "output_type": "stream",
     "text": [
      "[0.  0.2 0.4 0.6 0.8 1.  1.2 1.4 1.6 1.8 2.  2.2 2.4 2.6 2.8 3.  3.2 3.4\n",
      " 3.6 3.8 4.  4.2 4.4 4.6 4.8 5.  5.2 5.4 5.6 5.8 6.  6.2 6.4 6.6 6.8 7.\n",
      " 7.2 7.4 7.6 7.8 8.  8.2 8.4 8.6 8.8 9.  9.2 9.4 9.6 9.8]\n"
     ]
    }
   ],
   "source": [
    "import numpy as np\n",
    "t = np.arange(0, 10, 0.2)\n",
    "print(t)"
   ]
  },
  {
   "cell_type": "code",
   "execution_count": 24,
   "metadata": {},
   "outputs": [
    {
     "name": "stdout",
     "output_type": "stream",
     "text": [
      "[ 100.          108.32870677  117.3510871   127.12491503  137.71277643\n",
      "  149.18246976  161.60744022  175.06725003  189.64808793  205.44332106\n",
      "  222.55409285  241.08997064  261.16964734  282.92170144  306.48542033\n",
      "  332.01169227  359.66397256  389.61933018  422.0695817   457.22251951\n",
      "  495.30324244  536.55559711  581.24373944  629.6538261   682.09584693\n",
      "  738.90560989  800.44689143  867.11376585  939.33312874 1017.56743061\n",
      " 1102.31763806 1194.12644178 1293.58173155 1401.32036077 1518.0322245\n",
      " 1644.46467711 1781.42731796 1929.79717555 2090.52432351 2264.63796432\n",
      " 2453.25301971 2657.57726999 2878.91908792 3118.69581683 3378.44284638\n",
      " 3659.82344437 3964.63940726 4294.84259788 4652.54744398 5040.04447781]\n"
     ]
    }
   ],
   "source": [
    "N0 = 100\n",
    "r = 0.4\n",
    "population_size = N0*np.exp(r*t)\n",
    "print(population_size)\n"
   ]
  },
  {
   "cell_type": "code",
   "execution_count": 25,
   "metadata": {},
   "outputs": [
    {
     "name": "stdout",
     "output_type": "stream",
     "text": [
      "[  86.39604802  205.40453588   82.60926905 -325.7893079   226.33896667\n",
      "  111.59364309 -134.23830884  145.27952605   91.14309905   73.53312416\n",
      "    7.10556033  136.67824665 -184.11352175  -40.727487   -120.52982817\n",
      "  149.71155316    9.93052687  -73.11418774 -195.47711559  -64.29806015\n",
      "    2.03554513  -68.90072632  323.5159536   251.68107883 -677.79061974\n",
      " -472.25331149  -43.69302301 -105.54760289   53.41074937   54.33048276\n",
      "  529.45968876 -278.00519067  -94.40125178  510.69290187  161.67574905\n",
      "  165.76584309 -128.50159292 -412.01879271   41.86618606   27.25352196\n",
      " -306.83801356 -170.80666545  -18.01091993 -236.18790577  -24.56749196\n",
      "   23.87075687    8.89655926 -126.57291458  148.43701795  222.79173857]\n"
     ]
    }
   ],
   "source": [
    "generator = np.random.default_rng (seed=1)\n",
    "noise = generator.normal(loc=0, scale=250, size=np.shape(population_size))\n",
    "print(noise)"
   ]
  },
  {
   "cell_type": "code",
   "execution_count": 26,
   "metadata": {},
   "outputs": [
    {
     "data": {
      "text/plain": [
       "array([ 1.86396048e+02,  3.13733243e+02,  1.99960356e+02, -1.98664393e+02,\n",
       "        3.64051743e+02,  2.60776113e+02,  2.73691314e+01,  3.20346776e+02,\n",
       "        2.80791187e+02,  2.78976445e+02,  2.29659653e+02,  3.77768217e+02,\n",
       "        7.70561256e+01,  2.42194214e+02,  1.85955592e+02,  4.81723245e+02,\n",
       "        3.69594499e+02,  3.16505142e+02,  2.26592466e+02,  3.92924459e+02,\n",
       "        4.97338788e+02,  4.67654871e+02,  9.04759693e+02,  8.81334905e+02,\n",
       "        4.30522719e+00,  2.66652298e+02,  7.56753868e+02,  7.61566163e+02,\n",
       "        9.92743878e+02,  1.07189791e+03,  1.63177733e+03,  9.16121251e+02,\n",
       "        1.19918048e+03,  1.91201326e+03,  1.67970797e+03,  1.81023052e+03,\n",
       "        1.65292573e+03,  1.51777838e+03,  2.13239051e+03,  2.29189149e+03,\n",
       "        2.14641501e+03,  2.48677060e+03,  2.86090817e+03,  2.88250791e+03,\n",
       "        3.35387535e+03,  3.68369420e+03,  3.97353597e+03,  4.16826968e+03,\n",
       "        4.80098446e+03,  5.26283622e+03])"
      ]
     },
     "execution_count": 26,
     "metadata": {},
     "output_type": "execute_result"
    }
   ],
   "source": [
    "population_size_noise = population_size + noise\n",
    "population_size_noise"
   ]
  },
  {
   "cell_type": "markdown",
   "metadata": {},
   "source": [
    "<details>\n",
    "  <summary>Answer</summary>\n",
    "\n",
    "  ```python\n",
    "  import numpy as np\n",
    "\n",
    "  #set initial population\n",
    "  N0 = 100\n",
    "  #set growth rate\n",
    "  rate = 0.4\n",
    "  #create array of time points \n",
    "  t = np.arange(start=0, stop=10.2, step=0.2)\n",
    "\n",
    "  #calculate population of colony at the time points in t\n",
    "  population_size = N0 * np.exp(rate*t)\n",
    "  print('Population size is: ',population_size)\n",
    "\n",
    "  #add noise to population at each time point\n",
    "  population_size_noise = N0 * np.exp(rate*t) + np.random.normal(loc=0, scale=250, size=np.shape(population_size))\n",
    "  print('Population size with noise is: ',population_size_noise)\n",
    "  ```\n",
    "</details>"
   ]
  },
  {
   "cell_type": "markdown",
   "metadata": {
    "id": "QmxvYhS3OCNJ"
   },
   "source": [
    "### 2. Create a multiplication table for the number 6."
   ]
  },
  {
   "cell_type": "code",
   "execution_count": 37,
   "metadata": {
    "colab": {
     "base_uri": "https://localhost:8080/"
    },
    "executionInfo": {
     "elapsed": 8,
     "status": "ok",
     "timestamp": 1668296913832,
     "user": {
      "displayName": "Kaylie Lau",
      "userId": "01284785813595846851"
     },
     "user_tz": 300
    },
    "id": "Fg9nfyEvPMLF",
    "outputId": "694b4804-2901-4b22-d573-c7b29be99928"
   },
   "outputs": [
    {
     "name": "stdout",
     "output_type": "stream",
     "text": [
      "[ 6 12 18 24 30 36 42 48 54 60]\n"
     ]
    }
   ],
   "source": [
    "import numpy as np\n",
    "x = np.arange(1, 11, 1)\n",
    "y = 6\n",
    "z = x * y\n",
    "print(z)"
   ]
  },
  {
   "cell_type": "code",
   "execution_count": 82,
   "metadata": {},
   "outputs": [
    {
     "name": "stdout",
     "output_type": "stream",
     "text": [
      "['[1]x[6]=[6]']\n",
      "['[2]x[6]=[12]']\n",
      "['[3]x[6]=[18]']\n",
      "['[4]x[6]=[24]']\n",
      "['[5]x[6]=[30]']\n",
      "['[6]x[6]=[36]']\n",
      "['[7]x[6]=[42]']\n",
      "['[8]x[6]=[48]']\n",
      "['[9]x[6]=[54]']\n",
      "['[10]x[6]=[60]']\n"
     ]
    }
   ],
   "source": [
    "import numpy as np\n",
    "x = np.arange(1, 11, 1)\n",
    "y = np.repeat(6, 10)\n",
    "z = x * y\n",
    "x1 = np.vstack(x)\n",
    "y1 = np.vstack(y)\n",
    "z1 = np.vstack(z)\n",
    "for i, j, k in zip(x1, y1, z1):\n",
    "    table = [str(i) + \"x\" + str(j) + \"=\" + str(k)]\n",
    "    print(table)"
   ]
  },
  {
   "cell_type": "code",
   "execution_count": 84,
   "metadata": {},
   "outputs": [
    {
     "data": {
      "text/plain": [
       "array([[ 1,  2,  3,  4,  5,  6],\n",
       "       [ 2,  4,  6,  8, 10, 12],\n",
       "       [ 3,  6,  9, 12, 15, 18],\n",
       "       [ 4,  8, 12, 16, 20, 24],\n",
       "       [ 5, 10, 15, 20, 25, 30],\n",
       "       [ 6, 12, 18, 24, 30, 36]])"
      ]
     },
     "execution_count": 84,
     "metadata": {},
     "output_type": "execute_result"
    }
   ],
   "source": [
    "rows = np.arange(1, 7)\n",
    "columns = rows[:,np.newaxis]\n",
    "arr = rows * columns\n",
    "arr"
   ]
  },
  {
   "cell_type": "markdown",
   "metadata": {},
   "source": [
    "<details>\n",
    "  <summary>Answer</summary>\n",
    "\n",
    "  ```python\n",
    "  rows = np.arange(1, 7)\n",
    "  columns = rows[:,np.newaxis]\n",
    "  arr = rows * columns\n",
    "  arr\n",
    "  ```\n",
    "</details>"
   ]
  },
  {
   "cell_type": "markdown",
   "metadata": {
    "id": "FshwbTe5PFNg"
   },
   "source": [
    "### 3. Slice `arr` to create the following two arrays:\n",
    "\n",
    "`arr1` = [4, 12, 3]\n",
    "\n",
    "`arr2` = [3, 19]"
   ]
  },
  {
   "cell_type": "code",
   "execution_count": 89,
   "metadata": {
    "colab": {
     "base_uri": "https://localhost:8080/"
    },
    "executionInfo": {
     "elapsed": 126,
     "status": "ok",
     "timestamp": 1668297029241,
     "user": {
      "displayName": "Kaylie Lau",
      "userId": "01284785813595846851"
     },
     "user_tz": 300
    },
    "id": "or6m9tOLPsoz",
    "outputId": "6ba143e8-e468-4384-eee9-7b9466474b2b"
   },
   "outputs": [
    {
     "name": "stdout",
     "output_type": "stream",
     "text": [
      "[4, 12, 3]\n",
      "[3, 19]\n"
     ]
    }
   ],
   "source": [
    "x = np.arange(1, 20, 1)\n",
    "arr1 = [x[3], x[11], x[2]]\n",
    "arr2 = [x[2], x[-1]]\n",
    "print(arr1)\n",
    "print(arr2)"
   ]
  },
  {
   "cell_type": "markdown",
   "metadata": {},
   "source": [
    "<details>\n",
    "  <summary>Answer</summary>\n",
    "\n",
    "  ```python\n",
    "  arr = np.array([[4, 12, 98], [12, 11, 92], [3, 19, 60]])\n",
    "  arr\n",
    "\n",
    "  arr1 = arr[:,0]\n",
    "  print(arr1)\n",
    "\n",
    "  arr2 = arr[2,0:2]\n",
    "  print(arr2)\n",
    "  ```\n",
    "</details>"
   ]
  }
 ],
 "metadata": {
  "colab": {
   "authorship_tag": "ABX9TyMLRnQUjVoJta2UK9xkrr7Z",
   "collapsed_sections": [],
   "provenance": []
  },
  "kernelspec": {
   "display_name": "dsi_participant",
   "language": "python",
   "name": "python3"
  },
  "language_info": {
   "codemirror_mode": {
    "name": "ipython",
    "version": 3
   },
   "file_extension": ".py",
   "mimetype": "text/x-python",
   "name": "python",
   "nbconvert_exporter": "python",
   "pygments_lexer": "ipython3",
   "version": "3.9.15"
  }
 },
 "nbformat": 4,
 "nbformat_minor": 0
}
